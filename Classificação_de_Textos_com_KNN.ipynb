{
  "nbformat": 4,
  "nbformat_minor": 0,
  "metadata": {
    "kernelspec": {
      "display_name": "Python 3",
      "language": "python",
      "name": "python3"
    },
    "language_info": {
      "codemirror_mode": {
        "name": "ipython",
        "version": 3
      },
      "file_extension": ".py",
      "mimetype": "text/x-python",
      "name": "python",
      "nbconvert_exporter": "python",
      "pygments_lexer": "ipython3",
      "version": "3.7.3"
    },
    "colab": {
      "name": "Classificação de Textos com KNN.ipynb",
      "provenance": [],
      "collapsed_sections": [],
      "include_colab_link": true
    }
  },
  "cells": [
    {
      "cell_type": "markdown",
      "metadata": {
        "id": "view-in-github",
        "colab_type": "text"
      },
      "source": [
        "<a href=\"https://colab.research.google.com/github/felipemaiapolo/hands-on_ic_ml/blob/master/Classifica%C3%A7%C3%A3o_de_Textos_com_KNN.ipynb\" target=\"_parent\"><img src=\"https://colab.research.google.com/assets/colab-badge.svg\" alt=\"Open In Colab\"/></a>"
      ]
    },
    {
      "cell_type": "markdown",
      "metadata": {
        "id": "ozWMjwA4O5_l"
      },
      "source": [
        "# Classificação de Textos com K-Nearest Neighbors"
      ]
    },
    {
      "cell_type": "markdown",
      "metadata": {
        "id": "aMpcY7p3jb8O"
      },
      "source": [
        "## Arrumando a casa"
      ]
    },
    {
      "cell_type": "code",
      "metadata": {
        "id": "0zaMfIi6bRqn",
        "outputId": "0fa0f9a9-0fdd-4874-9e4c-a0a42ae17282",
        "colab": {
          "base_uri": "https://localhost:8080/",
          "height": 217
        }
      },
      "source": [
        "!pip install ftfy"
      ],
      "execution_count": 1,
      "outputs": [
        {
          "output_type": "stream",
          "text": [
            "Collecting ftfy\n",
            "\u001b[?25l  Downloading https://files.pythonhosted.org/packages/ff/e2/3b51c53dffb1e52d9210ebc01f1fb9f2f6eba9b3201fa971fd3946643c71/ftfy-5.8.tar.gz (64kB)\n",
            "\u001b[K     |████████████████████████████████| 71kB 1.0MB/s \n",
            "\u001b[?25hRequirement already satisfied: wcwidth in /usr/local/lib/python3.6/dist-packages (from ftfy) (0.2.5)\n",
            "Building wheels for collected packages: ftfy\n",
            "  Building wheel for ftfy (setup.py) ... \u001b[?25l\u001b[?25hdone\n",
            "  Created wheel for ftfy: filename=ftfy-5.8-cp36-none-any.whl size=45612 sha256=4d92f6ed7cbcf3da5722ec5fbbbe31d0342bd4cb0d6fac3eeda5230679d259da\n",
            "  Stored in directory: /root/.cache/pip/wheels/ba/c0/ef/f28c4da5ac84a4e06ac256ca9182fc34fa57fefffdbc68425b\n",
            "Successfully built ftfy\n",
            "Installing collected packages: ftfy\n",
            "Successfully installed ftfy-5.8\n"
          ],
          "name": "stdout"
        }
      ]
    },
    {
      "cell_type": "code",
      "metadata": {
        "id": "JYW5EFYdbIVJ"
      },
      "source": [
        "#Para o uso geral\n",
        "import random\n",
        "import numpy as np\n",
        "import pandas as pd\n",
        "import copy \n",
        "import time\n",
        "from scipy.stats import uniform\n",
        "import matplotlib.pyplot as plt\n",
        "import seaborn as sns\n",
        "import requests\n",
        "import io\n",
        "from sklearn.model_selection import train_test_split\n",
        "\n",
        "#Para o processamento de textos\n",
        "from ftfy import fix_text\n",
        "import string\n",
        "import re\n",
        "from gensim.test.utils import common_texts\n",
        "from gensim.models.doc2vec import Doc2Vec, TaggedDocument"
      ],
      "execution_count": 2,
      "outputs": []
    },
    {
      "cell_type": "markdown",
      "metadata": {
        "id": "XO5aB0znbcwm"
      },
      "source": [
        "Fazendo download dos dados:"
      ]
    },
    {
      "cell_type": "code",
      "metadata": {
        "id": "XRqXA9UdYMmP",
        "outputId": "c065b4ad-8eb0-4ba6-e9ee-2a063220b353",
        "colab": {
          "base_uri": "https://localhost:8080/",
          "height": 54
        }
      },
      "source": [
        "%%time\n",
        "\n",
        "download = requests.get(\"https://raw.githubusercontent.com/felipemaiapolo/hands-on_ic_ml/master/unsup.csv\").content\n",
        "unsup = pd.read_csv(io.StringIO(download.decode('utf-8')), sep=',')\n",
        "\n",
        "download = requests.get(\"https://raw.githubusercontent.com/felipemaiapolo/hands-on_ic_ml/master/data_test.csv\").content\n",
        "test = pd.read_csv(io.StringIO(download.decode('utf-8')), sep=',')\n",
        "\n",
        "download = requests.get(\"https://raw.githubusercontent.com/felipemaiapolo/hands-on_ic_ml/master/data_train.csv\").content\n",
        "train = pd.read_csv(io.StringIO(download.decode('utf-8')), sep=',')"
      ],
      "execution_count": 3,
      "outputs": [
        {
          "output_type": "stream",
          "text": [
            "CPU times: user 3.2 s, sys: 657 ms, total: 3.86 s\n",
            "Wall time: 26.9 s\n"
          ],
          "name": "stdout"
        }
      ]
    },
    {
      "cell_type": "code",
      "metadata": {
        "id": "rsl3SXErbv7i",
        "outputId": "c4cba735-ab79-4b87-80b0-c5057e49fb99",
        "colab": {
          "base_uri": "https://localhost:8080/",
          "height": 35
        }
      },
      "source": [
        "train.shape, test.shape, unsup.shape"
      ],
      "execution_count": 4,
      "outputs": [
        {
          "output_type": "execute_result",
          "data": {
            "text/plain": [
              "((24984, 2), (24985, 2), (49965, 1))"
            ]
          },
          "metadata": {
            "tags": []
          },
          "execution_count": 4
        }
      ]
    },
    {
      "cell_type": "code",
      "metadata": {
        "id": "O5FQek7Yb3w1",
        "outputId": "5817ec16-893d-42a5-beb8-89f797b0de9d",
        "colab": {
          "base_uri": "https://localhost:8080/",
          "height": 198
        }
      },
      "source": [
        "unsup.head()"
      ],
      "execution_count": 5,
      "outputs": [
        {
          "output_type": "execute_result",
          "data": {
            "text/html": [
              "<div>\n",
              "<style scoped>\n",
              "    .dataframe tbody tr th:only-of-type {\n",
              "        vertical-align: middle;\n",
              "    }\n",
              "\n",
              "    .dataframe tbody tr th {\n",
              "        vertical-align: top;\n",
              "    }\n",
              "\n",
              "    .dataframe thead th {\n",
              "        text-align: right;\n",
              "    }\n",
              "</style>\n",
              "<table border=\"1\" class=\"dataframe\">\n",
              "  <thead>\n",
              "    <tr style=\"text-align: right;\">\n",
              "      <th></th>\n",
              "      <th>review</th>\n",
              "    </tr>\n",
              "  </thead>\n",
              "  <tbody>\n",
              "    <tr>\n",
              "      <th>0</th>\n",
              "      <td>I admit, the great majority of films released ...</td>\n",
              "    </tr>\n",
              "    <tr>\n",
              "      <th>1</th>\n",
              "      <td>Take a low budget, inexperienced actors doubli...</td>\n",
              "    </tr>\n",
              "    <tr>\n",
              "      <th>2</th>\n",
              "      <td>Everybody has seen 'Back To The Future,' right...</td>\n",
              "    </tr>\n",
              "    <tr>\n",
              "      <th>3</th>\n",
              "      <td>Doris Day was an icon of beauty in singing and...</td>\n",
              "    </tr>\n",
              "    <tr>\n",
              "      <th>4</th>\n",
              "      <td>After a series of silly, fun-loving movies, 19...</td>\n",
              "    </tr>\n",
              "  </tbody>\n",
              "</table>\n",
              "</div>"
            ],
            "text/plain": [
              "                                              review\n",
              "0  I admit, the great majority of films released ...\n",
              "1  Take a low budget, inexperienced actors doubli...\n",
              "2  Everybody has seen 'Back To The Future,' right...\n",
              "3  Doris Day was an icon of beauty in singing and...\n",
              "4  After a series of silly, fun-loving movies, 19..."
            ]
          },
          "metadata": {
            "tags": []
          },
          "execution_count": 5
        }
      ]
    },
    {
      "cell_type": "code",
      "metadata": {
        "id": "PTpQwM27YXRz",
        "outputId": "b787b4ac-65fc-4c86-b9d3-f72ad5755d2e",
        "colab": {
          "base_uri": "https://localhost:8080/",
          "height": 198
        }
      },
      "source": [
        "train.head()"
      ],
      "execution_count": 6,
      "outputs": [
        {
          "output_type": "execute_result",
          "data": {
            "text/html": [
              "<div>\n",
              "<style scoped>\n",
              "    .dataframe tbody tr th:only-of-type {\n",
              "        vertical-align: middle;\n",
              "    }\n",
              "\n",
              "    .dataframe tbody tr th {\n",
              "        vertical-align: top;\n",
              "    }\n",
              "\n",
              "    .dataframe thead th {\n",
              "        text-align: right;\n",
              "    }\n",
              "</style>\n",
              "<table border=\"1\" class=\"dataframe\">\n",
              "  <thead>\n",
              "    <tr style=\"text-align: right;\">\n",
              "      <th></th>\n",
              "      <th>review</th>\n",
              "      <th>positive</th>\n",
              "    </tr>\n",
              "  </thead>\n",
              "  <tbody>\n",
              "    <tr>\n",
              "      <th>0</th>\n",
              "      <td>Bromwell High is a cartoon comedy. It ran at t...</td>\n",
              "      <td>1</td>\n",
              "    </tr>\n",
              "    <tr>\n",
              "      <th>1</th>\n",
              "      <td>Homelessness (or Houselessness as George Carli...</td>\n",
              "      <td>1</td>\n",
              "    </tr>\n",
              "    <tr>\n",
              "      <th>2</th>\n",
              "      <td>Brilliant over-acting by Lesley Ann Warren. Be...</td>\n",
              "      <td>1</td>\n",
              "    </tr>\n",
              "    <tr>\n",
              "      <th>3</th>\n",
              "      <td>This is easily the most underrated film inn th...</td>\n",
              "      <td>1</td>\n",
              "    </tr>\n",
              "    <tr>\n",
              "      <th>4</th>\n",
              "      <td>This is not the typical Mel Brooks film. It wa...</td>\n",
              "      <td>1</td>\n",
              "    </tr>\n",
              "  </tbody>\n",
              "</table>\n",
              "</div>"
            ],
            "text/plain": [
              "                                              review  positive\n",
              "0  Bromwell High is a cartoon comedy. It ran at t...         1\n",
              "1  Homelessness (or Houselessness as George Carli...         1\n",
              "2  Brilliant over-acting by Lesley Ann Warren. Be...         1\n",
              "3  This is easily the most underrated film inn th...         1\n",
              "4  This is not the typical Mel Brooks film. It wa...         1"
            ]
          },
          "metadata": {
            "tags": []
          },
          "execution_count": 6
        }
      ]
    },
    {
      "cell_type": "code",
      "metadata": {
        "id": "zZyGI0uuoXLJ",
        "outputId": "6c45231f-529c-4681-9f46-d91ae127dd4e",
        "colab": {
          "base_uri": "https://localhost:8080/",
          "height": 72
        }
      },
      "source": [
        "train.loc[:,'positive'].value_counts()"
      ],
      "execution_count": 7,
      "outputs": [
        {
          "output_type": "execute_result",
          "data": {
            "text/plain": [
              "0    12495\n",
              "1    12489\n",
              "Name: positive, dtype: int64"
            ]
          },
          "metadata": {
            "tags": []
          },
          "execution_count": 7
        }
      ]
    },
    {
      "cell_type": "code",
      "metadata": {
        "id": "Wh5GZfLmog2j",
        "outputId": "ec43796d-8d26-49b2-a657-6b2b486094c6",
        "colab": {
          "base_uri": "https://localhost:8080/",
          "height": 72
        }
      },
      "source": [
        "test.loc[:,'positive'].value_counts()"
      ],
      "execution_count": 8,
      "outputs": [
        {
          "output_type": "execute_result",
          "data": {
            "text/plain": [
              "1    12493\n",
              "0    12492\n",
              "Name: positive, dtype: int64"
            ]
          },
          "metadata": {
            "tags": []
          },
          "execution_count": 8
        }
      ]
    },
    {
      "cell_type": "markdown",
      "metadata": {
        "id": "4Hr5-haOpEQR"
      },
      "source": [
        "## Treinando Representação Vetorial para Textos"
      ]
    },
    {
      "cell_type": "markdown",
      "metadata": {
        "id": "MhCiXKWLO6Hv"
      },
      "source": [
        "Vamos passar nossos textos para o formato de lista:"
      ]
    },
    {
      "cell_type": "code",
      "metadata": {
        "id": "jp4ezddhO6Hx"
      },
      "source": [
        "texts = unsup['review'].to_list()"
      ],
      "execution_count": 9,
      "outputs": []
    },
    {
      "cell_type": "markdown",
      "metadata": {
        "id": "XYutvD3OO6Io"
      },
      "source": [
        "Checando um texto da lista:"
      ]
    },
    {
      "cell_type": "code",
      "metadata": {
        "id": "T5g5FXrKO6I6",
        "outputId": "e23a6f62-703d-445c-ef1e-4b5e34fad477",
        "colab": {
          "base_uri": "https://localhost:8080/",
          "height": 126
        }
      },
      "source": [
        "texts[0]"
      ],
      "execution_count": 10,
      "outputs": [
        {
          "output_type": "execute_result",
          "data": {
            "application/vnd.google.colaboratory.intrinsic+json": {
              "type": "string"
            },
            "text/plain": [
              "'I admit, the great majority of films released before say 1933 are just not for me. Of the dozen or so \"major\" silents I have viewed, one I loved (The Crowd), and two were very good (The Last Command and City Lights, that latter Chaplin circa 1931).<br /><br />So I was apprehensive about this one, and humor is often difficult to appreciate (uh, enjoy) decades later. I did like the lead actors, but thought little of the film.<br /><br />One intriguing sequence. Early on, the guys are supposed to get \"de-loused\" and for about three minutes, fully dressed, do some schtick. In the background, perhaps three dozen men pass by, all naked, white and black (WWI ?), and for most, their butts, part or full backside, are shown. Was this an early variation of beefcake courtesy of Howard Hughes?'"
            ]
          },
          "metadata": {
            "tags": []
          },
          "execution_count": 10
        }
      ]
    },
    {
      "cell_type": "markdown",
      "metadata": {
        "id": "v2oY8n6kO6LX"
      },
      "source": [
        "Definindo uma função para a limpeza e padronização dos textos:"
      ]
    },
    {
      "cell_type": "code",
      "metadata": {
        "id": "hsM-29KWO6LZ"
      },
      "source": [
        "def clean(text):\n",
        "    txt=text.replace(\"<br />\",\" \") #retirando tags\n",
        "    txt=re.sub('\\d', ' ', txt) #Tirando números\n",
        "    txt=fix_text(txt) #consertando Mojibakes (Ver https://pypi.org/project/ftfy/)\n",
        "    txt=txt.lower() #passando tudo para minúsculo\n",
        "    txt=txt.translate(str.maketrans('', '', string.punctuation)) #retirando toda pontuação\n",
        "    txt=txt.replace(\" — \", \" \") #retirando hífens\n",
        "    txt=re.sub(' +', ' ', txt) #deletando espaços extras\n",
        "    return txt"
      ],
      "execution_count": 11,
      "outputs": []
    },
    {
      "cell_type": "markdown",
      "metadata": {
        "id": "ApIGtG7zO6Ls"
      },
      "source": [
        "Limpando cada um dos textos:"
      ]
    },
    {
      "cell_type": "code",
      "metadata": {
        "id": "n482nI61O6Lv",
        "outputId": "11c9f6f0-6269-4b34-8a49-2d458407a3c7",
        "colab": {
          "base_uri": "https://localhost:8080/",
          "height": 54
        }
      },
      "source": [
        "%%time\n",
        "texts=[clean(t) for t in texts]"
      ],
      "execution_count": 12,
      "outputs": [
        {
          "output_type": "stream",
          "text": [
            "CPU times: user 49.3 s, sys: 53.6 ms, total: 49.4 s\n",
            "Wall time: 49.5 s\n"
          ],
          "name": "stdout"
        }
      ]
    },
    {
      "cell_type": "markdown",
      "metadata": {
        "id": "xwW0Kmb1O6L5"
      },
      "source": [
        "Checando o mesmo texto de forma limpa:"
      ]
    },
    {
      "cell_type": "code",
      "metadata": {
        "id": "RNCBANsGO6L7",
        "outputId": "8f767b5a-aa0f-4585-ec4a-f706f655dcba",
        "colab": {
          "base_uri": "https://localhost:8080/",
          "height": 108
        }
      },
      "source": [
        "texts[0]"
      ],
      "execution_count": 13,
      "outputs": [
        {
          "output_type": "execute_result",
          "data": {
            "application/vnd.google.colaboratory.intrinsic+json": {
              "type": "string"
            },
            "text/plain": [
              "'i admit the great majority of films released before say are just not for me of the dozen or so major silents i have viewed one i loved the crowd and two were very good the last command and city lights that latter chaplin circa so i was apprehensive about this one and humor is often difficult to appreciate uh enjoy decades later i did like the lead actors but thought little of the film one intriguing sequence early on the guys are supposed to get deloused and for about three minutes fully dressed do some schtick in the background perhaps three dozen men pass by all naked white and black wwi and for most their butts part or full backside are shown was this an early variation of beefcake courtesy of howard hughes'"
            ]
          },
          "metadata": {
            "tags": []
          },
          "execution_count": 13
        }
      ]
    },
    {
      "cell_type": "markdown",
      "metadata": {
        "id": "tMQNceQ0fcdy"
      },
      "source": [
        "Tokenizando os textos:"
      ]
    },
    {
      "cell_type": "code",
      "metadata": {
        "id": "4TJ12bygfXnJ",
        "outputId": "1889377d-1bd1-41e8-be02-31d0db034c51",
        "colab": {
          "base_uri": "https://localhost:8080/",
          "height": 54
        }
      },
      "source": [
        "%%time\n",
        "tokens=[t.split() for t in texts]"
      ],
      "execution_count": 14,
      "outputs": [
        {
          "output_type": "stream",
          "text": [
            "CPU times: user 970 ms, sys: 470 ms, total: 1.44 s\n",
            "Wall time: 1.44 s\n"
          ],
          "name": "stdout"
        }
      ]
    },
    {
      "cell_type": "markdown",
      "metadata": {
        "id": "35D-BevsfmaT"
      },
      "source": [
        "Visualizando texto tokenizado:"
      ]
    },
    {
      "cell_type": "code",
      "metadata": {
        "id": "5PgjN2rsflRc",
        "outputId": "5bb2f348-2bf2-41f9-a81a-ba9c5a179141",
        "colab": {
          "base_uri": "https://localhost:8080/",
          "height": 1000
        }
      },
      "source": [
        "tokens[0]"
      ],
      "execution_count": 15,
      "outputs": [
        {
          "output_type": "execute_result",
          "data": {
            "text/plain": [
              "['i',\n",
              " 'admit',\n",
              " 'the',\n",
              " 'great',\n",
              " 'majority',\n",
              " 'of',\n",
              " 'films',\n",
              " 'released',\n",
              " 'before',\n",
              " 'say',\n",
              " 'are',\n",
              " 'just',\n",
              " 'not',\n",
              " 'for',\n",
              " 'me',\n",
              " 'of',\n",
              " 'the',\n",
              " 'dozen',\n",
              " 'or',\n",
              " 'so',\n",
              " 'major',\n",
              " 'silents',\n",
              " 'i',\n",
              " 'have',\n",
              " 'viewed',\n",
              " 'one',\n",
              " 'i',\n",
              " 'loved',\n",
              " 'the',\n",
              " 'crowd',\n",
              " 'and',\n",
              " 'two',\n",
              " 'were',\n",
              " 'very',\n",
              " 'good',\n",
              " 'the',\n",
              " 'last',\n",
              " 'command',\n",
              " 'and',\n",
              " 'city',\n",
              " 'lights',\n",
              " 'that',\n",
              " 'latter',\n",
              " 'chaplin',\n",
              " 'circa',\n",
              " 'so',\n",
              " 'i',\n",
              " 'was',\n",
              " 'apprehensive',\n",
              " 'about',\n",
              " 'this',\n",
              " 'one',\n",
              " 'and',\n",
              " 'humor',\n",
              " 'is',\n",
              " 'often',\n",
              " 'difficult',\n",
              " 'to',\n",
              " 'appreciate',\n",
              " 'uh',\n",
              " 'enjoy',\n",
              " 'decades',\n",
              " 'later',\n",
              " 'i',\n",
              " 'did',\n",
              " 'like',\n",
              " 'the',\n",
              " 'lead',\n",
              " 'actors',\n",
              " 'but',\n",
              " 'thought',\n",
              " 'little',\n",
              " 'of',\n",
              " 'the',\n",
              " 'film',\n",
              " 'one',\n",
              " 'intriguing',\n",
              " 'sequence',\n",
              " 'early',\n",
              " 'on',\n",
              " 'the',\n",
              " 'guys',\n",
              " 'are',\n",
              " 'supposed',\n",
              " 'to',\n",
              " 'get',\n",
              " 'deloused',\n",
              " 'and',\n",
              " 'for',\n",
              " 'about',\n",
              " 'three',\n",
              " 'minutes',\n",
              " 'fully',\n",
              " 'dressed',\n",
              " 'do',\n",
              " 'some',\n",
              " 'schtick',\n",
              " 'in',\n",
              " 'the',\n",
              " 'background',\n",
              " 'perhaps',\n",
              " 'three',\n",
              " 'dozen',\n",
              " 'men',\n",
              " 'pass',\n",
              " 'by',\n",
              " 'all',\n",
              " 'naked',\n",
              " 'white',\n",
              " 'and',\n",
              " 'black',\n",
              " 'wwi',\n",
              " 'and',\n",
              " 'for',\n",
              " 'most',\n",
              " 'their',\n",
              " 'butts',\n",
              " 'part',\n",
              " 'or',\n",
              " 'full',\n",
              " 'backside',\n",
              " 'are',\n",
              " 'shown',\n",
              " 'was',\n",
              " 'this',\n",
              " 'an',\n",
              " 'early',\n",
              " 'variation',\n",
              " 'of',\n",
              " 'beefcake',\n",
              " 'courtesy',\n",
              " 'of',\n",
              " 'howard',\n",
              " 'hughes']"
            ]
          },
          "metadata": {
            "tags": []
          },
          "execution_count": 15
        }
      ]
    },
    {
      "cell_type": "markdown",
      "metadata": {
        "id": "HB3h6MleO6Mn"
      },
      "source": [
        "## Doc2Vec\n",
        "\n",
        "Vamos fazer uma breve introdução ao modelo **Doc2Vec** para a a geração de representações de textos (embeddings) de uma forma fácil e rápida. O modelo **Doc2Vec** é do ano de 2014 e foi descrito pela primeira por pesquisadores do Google no artigo [1] - as imagens utilizadas a seguir foram retiradas deste artigo. Um tutorial bem didático de como a técnica funciona pode ser acessado no link [2] e a documentação do método está em [3]. Antes de explicar como é o funcionamento do modelo **Doc2Vec** é necessário entender como o modelo **Word2Vec**, para o cálculo de representações para palavras, funciona. O modelo **Word2Vec** é um modelo que gera representações vetoriais para palavras de acordo com os contextos em que as palavras aparecem nos textos da nossa base de dados. Dessa maneira é possível pensar que a palavra 'rei' está para 'homem' assim como 'rainha' está para 'mulher' como na figura abaixo:\n",
        "\n",
        "<figure>\n",
        "<center>\n",
        "<img src='https://raw.githubusercontent.com/felipemaiapolo/hands-on_ic_ml/master/word2vec.png' />\n",
        "</center>\n",
        "</figure>\n",
        "\n",
        "É impressionante ver o poder de uma técnica relativamente simples que é o **Word2Vec**. Existem basicamente duas versões de modelos para o **Word2Vec**, a COBW (Continuous Bag of Words) e Skip-Gram - aqui focaremos basicamente na primeira abordagem. A abordagem COBW considera que a posição das palavras podem ser preditas pelo contextos nas quais estão inseridas (palavras no entorno). Chamamos esse contexto de 'janela'. Todas as palavras do vocabulário começam ccom uma representação aleatória que o modelo melhora de acordo com o processo de aprendiagem ao tentar inferir a presença de palavras pelos contextos nos quais estão inseridas. Assim cada palavra adquire uma representação compatível com os contextos em que geralmente essa palavra aparece. Temos então o seguinte esquema para uma implementação do **Word2Vec** COBW:\n",
        "\n",
        "<figure>\n",
        "<center>\n",
        "<img src='https://raw.githubusercontent.com/felipemaiapolo/hands-on_ic_ml/master/word2vec2.png' />\n",
        "</center>\n",
        "</figure>\n",
        "\n",
        "Agora que entendemos um pouco melhor como funciona o modelo **Word2Vec**, podemos entender como é o funcionamento do **Doc2Vec**. O segundo modelo acaba sendo uma extensão do primeiro. Assim como o **Word2Vec**, o modelo **Doc2Vec** tem duas versões principais e aqui focaremos naquela análoga ao COBW, que se chama PV-DM (Distributed Memory version of Paragraph Vector). A ideia continua igual, no entanto adicionamos um vetor específico para cada um dos documentos afim de predizer as palavras daquele documento específico. Assim, parte da informação que não capturada pelas representações das palavras é aprendida pelas representações dos textos. Quando formos treinar o modelo **Doc2vec** basta fornecermos os parâmetros 'window' (para o tamanho da janela) e 'size' para o tamanho dos embeddings (representações dos textos).\n",
        "\n",
        "\n",
        "<figure>\n",
        "<center>\n",
        "<img src='https://raw.githubusercontent.com/felipemaiapolo/hands-on_ic_ml/master/doc2vec.png' />\n",
        "</center>\n",
        "</figure>\n",
        "\n",
        "Fontes:\n",
        "\n",
        "1. https://cs.stanford.edu/~quocle/paragraph_vector.pdf\n",
        "2. https://medium.com/scaleabout/a-gentle-introduction-to-doc2vec-db3e8c0cce5e\n",
        "3. https://radimrehurek.com/gensim/models/doc2vec.html"
      ]
    },
    {
      "cell_type": "markdown",
      "metadata": {
        "id": "ivyXVrGdO6Mo"
      },
      "source": [
        "Especificando hiperparâmetros para treinar modelo Doc2Vec. Neste caso 'window' se refere à distância máxima (em número de palavras) entre as palavras a serem inferidas e aquelas consideradas de contexto."
      ]
    },
    {
      "cell_type": "code",
      "metadata": {
        "id": "itn87qkRO6Mq"
      },
      "source": [
        "size=50\n",
        "window=15"
      ],
      "execution_count": 16,
      "outputs": []
    },
    {
      "cell_type": "markdown",
      "metadata": {
        "id": "yW1Gn2uLO6Mw"
      },
      "source": [
        "Treinando modelo:"
      ]
    },
    {
      "cell_type": "code",
      "metadata": {
        "id": "6aYeFGgoO6Mw",
        "outputId": "99fa743b-5ac6-4a57-ecce-1163bd454962",
        "colab": {
          "base_uri": "https://localhost:8080/",
          "height": 54
        }
      },
      "source": [
        "%%time\n",
        "\n",
        "documents = [TaggedDocument(doc, [i]) for i, doc in enumerate(tokens)]\n",
        "model_doc = Doc2Vec(documents, vector_size=size, window=window, dm_mean=1)"
      ],
      "execution_count": 17,
      "outputs": [
        {
          "output_type": "stream",
          "text": [
            "CPU times: user 4min 59s, sys: 4.21 s, total: 5min 3s\n",
            "Wall time: 2min 52s\n"
          ],
          "name": "stdout"
        }
      ]
    },
    {
      "cell_type": "markdown",
      "metadata": {
        "id": "btpyOUyPO6M_"
      },
      "source": [
        "A inferência do vetor para um texto específico é feita utilizando a descida pela gradiente, congelando a rede neural do Doc2Vec e atualizando somente os pesos referentes ao novo texto. Na função abaixo, fixamos uma semente (*seed*) afim de garantir resultados reprodutíveis e definimos que a descida pelo gradiente dê 20 passos:\n",
        "\n",
        "Definindo função que fará o embedding:"
      ]
    },
    {
      "cell_type": "code",
      "metadata": {
        "id": "6cXNxVsWO6NB"
      },
      "source": [
        "def emb(txt, model, normalize=False): \n",
        "    model.random.seed(42)\n",
        "    x=model.infer_vector(txt, steps=20)\n",
        "    \n",
        "    if normalize: return(x/np.sqrt(x@x))\n",
        "    else: return(x)"
      ],
      "execution_count": 18,
      "outputs": []
    },
    {
      "cell_type": "markdown",
      "metadata": {
        "id": "lrcqalBOO6NT"
      },
      "source": [
        "Aplicando o embedding em um texto tokenizado:"
      ]
    },
    {
      "cell_type": "code",
      "metadata": {
        "id": "54BRgoycO6NU",
        "outputId": "92858293-65b7-47b2-c5e4-aabcc3c589fd",
        "colab": {
          "base_uri": "https://localhost:8080/",
          "height": 217
        }
      },
      "source": [
        "emb(tokens[0], model_doc)"
      ],
      "execution_count": 19,
      "outputs": [
        {
          "output_type": "execute_result",
          "data": {
            "text/plain": [
              "array([ 0.09197606,  0.43199056, -0.24672984,  0.7833453 ,  0.06544204,\n",
              "       -0.3138854 , -0.7708377 ,  0.24318025,  0.88662785, -0.32409742,\n",
              "       -0.14767082,  0.18195888, -0.11089796,  0.93512505,  0.14256823,\n",
              "        0.05478522, -1.2095658 , -0.28672278,  0.16321105,  0.22831465,\n",
              "       -1.0509036 ,  0.06842781, -0.57200766, -0.3060709 ,  0.28212008,\n",
              "       -0.01687421, -0.52181566, -0.39264837,  0.24109809, -0.0934357 ,\n",
              "        0.12111676,  0.32313782, -0.3763205 , -0.14517805, -0.5503926 ,\n",
              "        0.10444058, -0.04952415,  0.04452807,  0.0137038 ,  0.38305053,\n",
              "        0.24755976, -0.12036754,  0.05319615, -0.02008611,  0.11343668,\n",
              "       -0.37166625,  0.45000562,  0.33784223, -1.147222  ,  0.9498745 ],\n",
              "      dtype=float32)"
            ]
          },
          "metadata": {
            "tags": []
          },
          "execution_count": 19
        }
      ]
    },
    {
      "cell_type": "markdown",
      "metadata": {
        "id": "FisqKpMiO6No"
      },
      "source": [
        "## Similaridade entre textos"
      ]
    },
    {
      "cell_type": "markdown",
      "metadata": {
        "id": "UBW6tiXNO6Nr"
      },
      "source": [
        "No contexto de NLP é comum utilizarmos a similaridade de cossenos para compararmos dois textos. É importante recordar que em nosso contexto, cada um dos textos é tratado como um vetor com comprimento, direção e sentido. Um vetor será expresso aqui na forma de matrizes unidimensionais (Numpy arrays). Um vetor de tamanho $n$ é uma lista de valores em forma matricial da seguinte forma:\n",
        "\n",
        "\\begin{equation}\n",
        "  \\begin{aligned}\n",
        "      \\mathbf{x}=\\begin{pmatrix} x_1 \n",
        "      \\\\ x_2\n",
        "      \\\\ ...\n",
        "      \\\\ x_n\n",
        "     \\end{pmatrix}\n",
        "   \\end{aligned}\n",
        "\\end{equation}\n",
        "\n",
        "Assumindo que outro vetor $\\mathbf{y}$ tenha o mesmo tamanho de $\\mathbf{x}$, o cosseno do ângulo ($\\theta$) entre os vetores é calculado da seguinte forma:\n",
        "\n",
        "\\begin{equation}\n",
        "  \\begin{aligned}\n",
        "      cos(\\theta)=\\frac{\\sum_{i=1}^{n}x_iy_i }{\\sqrt{\\sum_{i=1}^{n}x_i^2}\\sqrt{\\sum_{i=1}^{n}y_i^2}}=\n",
        "      \\frac{\\mathbf{x}^T\\mathbf{y}}{\\sqrt{\\mathbf{x}^T\\mathbf{x}}.\\sqrt{\\mathbf{y}^T\\mathbf{y}}}=\n",
        "      \\frac{\\mathbf{x}^T\\mathbf{y}}{\\left \\| \\mathbf{x} \\right \\|.\\left \\| \\mathbf{y} \\right \\|}\n",
        "   \\end{aligned}\n",
        "\\end{equation}\n",
        "\n",
        "Se o comprimento dos vetores $\\mathbf{y}$ e $\\mathbf{x}$ é um, então podemos reescrever o cosseno da seguinte forma:\n",
        "\n",
        "\\begin{equation}\n",
        "  \\begin{aligned}\n",
        "      cos(\\theta)=\\sum_{i=1}^{n}x_iy_i=\n",
        "      \\mathbf{x}^T\\mathbf{y}\n",
        "   \\end{aligned}\n",
        "\\end{equation}\n",
        "\n",
        "Para normalizar um vetor $\\mathbf{x}$ para que tenha comprimento 1, basta fazer a seguinte atualização:\n",
        "\n",
        "\\begin{equation}\n",
        "  \\begin{aligned}\n",
        "      \\mathbf{x}\\leftarrow \\frac{\\mathbf{x}}{\\sqrt{\\mathbf{x}^T\\mathbf{x}}}\n",
        "   \\end{aligned}\n",
        "\\end{equation}"
      ]
    },
    {
      "cell_type": "markdown",
      "metadata": {
        "id": "Hj7gT2ysO6Nu"
      },
      "source": [
        "### Exemplo\n",
        "\n",
        "Definindo função que calcula a similaridade entre dois vetores. A similaridade (cosseno) varia de -1 a 1 sendo que valores positivos tem sentido parecidos e valores negativos nos dão sentidos opostos:"
      ]
    },
    {
      "cell_type": "code",
      "metadata": {
        "id": "405r_aFgO6Nw"
      },
      "source": [
        "def simil(x,y):\n",
        "    return((x@y)/np.sqrt((x@x)*(y@y)))"
      ],
      "execution_count": 20,
      "outputs": []
    },
    {
      "cell_type": "markdown",
      "metadata": {
        "id": "NFrnpGxDO6N1"
      },
      "source": [
        "Definindo dois vetores e os visualizando:"
      ]
    },
    {
      "cell_type": "code",
      "metadata": {
        "id": "tlu1-ZiOO6N2",
        "outputId": "75a6c20b-f1d0-4595-9487-52c27495c087",
        "colab": {
          "base_uri": "https://localhost:8080/",
          "height": 265
        }
      },
      "source": [
        "v1=np.array([2,2])\n",
        "v2=np.array([2,2.5])\n",
        "\n",
        "V = np.array([v1,v2])\n",
        "\n",
        "O=np.array([[0],[0]])\n",
        "plt.quiver(O[:],O[:],V[:,0],V[:,1], color=['r','g','b'], scale=21)\n",
        "plt.show()"
      ],
      "execution_count": 21,
      "outputs": [
        {
          "output_type": "display_data",
          "data": {
            "image/png": "[encoded data removed]",
            "text/plain": [
              "<Figure size 432x288 with 1 Axes>"
            ]
          },
          "metadata": {
            "tags": [],
            "needs_background": "light"
          }
        }
      ]
    },
    {
      "cell_type": "markdown",
      "metadata": {
        "id": "L7H3caa-O6N9"
      },
      "source": [
        "Veja que o menor ângulo entre os vetores é pequeno então a similaridade deve dar algo próximo de 1:"
      ]
    },
    {
      "cell_type": "code",
      "metadata": {
        "id": "eKpieKBIO6N-",
        "outputId": "4b10fc19-acaf-49e0-d2b4-30250a396a45",
        "colab": {
          "base_uri": "https://localhost:8080/",
          "height": 35
        }
      },
      "source": [
        "simil(v1,v2)"
      ],
      "execution_count": 22,
      "outputs": [
        {
          "output_type": "execute_result",
          "data": {
            "text/plain": [
              "0.9938837346736188"
            ]
          },
          "metadata": {
            "tags": []
          },
          "execution_count": 22
        }
      ]
    },
    {
      "cell_type": "markdown",
      "metadata": {
        "id": "E3gj8cJ3O6OE"
      },
      "source": [
        "Veja que o cosseno entre os vetores não depende do tamanho dos vetores. Vamos manter o ângulo mas diminuindo o tamanho do vetor vermelho:"
      ]
    },
    {
      "cell_type": "code",
      "metadata": {
        "id": "9jvg9WZDO6OE",
        "outputId": "4402904f-c35c-44f9-f922-694880c5ef8a",
        "colab": {
          "base_uri": "https://localhost:8080/",
          "height": 265
        }
      },
      "source": [
        "v1=np.array([1,1])\n",
        "v2=np.array([2,2.5])\n",
        "\n",
        "V = np.array([v1,v2])\n",
        "\n",
        "O=np.array([[0],[0]])\n",
        "plt.quiver(O[:],O[:],V[:,0],V[:,1], color=['r','g','b'], scale=21)\n",
        "plt.show()"
      ],
      "execution_count": 23,
      "outputs": [
        {
          "output_type": "display_data",
          "data": {
            "image/png": "[encoded data removed]",
            "text/plain": [
              "<Figure size 432x288 with 1 Axes>"
            ]
          },
          "metadata": {
            "tags": [],
            "needs_background": "light"
          }
        }
      ]
    },
    {
      "cell_type": "markdown",
      "metadata": {
        "id": "d3jjsBz8O6OJ"
      },
      "source": [
        "Veja que a medida de similaridade não mudou:"
      ]
    },
    {
      "cell_type": "code",
      "metadata": {
        "id": "Y3EdAgPYO6OK",
        "outputId": "81e066ce-9347-4765-8cef-34c879137bd7",
        "colab": {
          "base_uri": "https://localhost:8080/",
          "height": 35
        }
      },
      "source": [
        "simil(v1,v2)"
      ],
      "execution_count": 24,
      "outputs": [
        {
          "output_type": "execute_result",
          "data": {
            "text/plain": [
              "0.9938837346736188"
            ]
          },
          "metadata": {
            "tags": []
          },
          "execution_count": 24
        }
      ]
    },
    {
      "cell_type": "markdown",
      "metadata": {
        "id": "fuV55kIaO6OS"
      },
      "source": [
        "Se os vetores formam 90 graus entre si, temos que eles são ortogonais (não tem similaridade alguma entre si):"
      ]
    },
    {
      "cell_type": "code",
      "metadata": {
        "id": "WqikYNU2O6OU",
        "outputId": "7bc6d53d-9727-442d-80bc-337a2fd4b17e",
        "colab": {
          "base_uri": "https://localhost:8080/",
          "height": 265
        }
      },
      "source": [
        "v1=np.array([-5,4])\n",
        "v2=np.array([2,2.5])\n",
        "\n",
        "V = np.array([v1,v2])\n",
        "\n",
        "O=np.array([[0],[0]])\n",
        "plt.quiver(O[:],O[:],V[:,0],V[:,1], color=['r','g','b'], scale=21)\n",
        "plt.show()"
      ],
      "execution_count": 25,
      "outputs": [
        {
          "output_type": "display_data",
          "data": {
            "image/png": "[encoded data removed]",
            "text/plain": [
              "<Figure size 432x288 with 1 Axes>"
            ]
          },
          "metadata": {
            "tags": [],
            "needs_background": "light"
          }
        }
      ]
    },
    {
      "cell_type": "markdown",
      "metadata": {
        "id": "_c0GteUAO6Oc"
      },
      "source": [
        "Calculando a similaridade:"
      ]
    },
    {
      "cell_type": "code",
      "metadata": {
        "id": "DzAuhgfhO6Of",
        "outputId": "b1f1d559-d53e-4411-89d3-31f5ded66d26",
        "colab": {
          "base_uri": "https://localhost:8080/",
          "height": 35
        }
      },
      "source": [
        "simil(v1,v2)"
      ],
      "execution_count": 26,
      "outputs": [
        {
          "output_type": "execute_result",
          "data": {
            "text/plain": [
              "0.0"
            ]
          },
          "metadata": {
            "tags": []
          },
          "execution_count": 26
        }
      ]
    },
    {
      "cell_type": "markdown",
      "metadata": {
        "id": "f0OiooS0O6Oj"
      },
      "source": [
        "Já se o menor ângulo entre os vetores é maior que 90 graus, ou seja, os vetores estão 'apontando' para sentidos opostos, a similaridade é negativa:"
      ]
    },
    {
      "cell_type": "code",
      "metadata": {
        "id": "RPhD-zGLO6Ol",
        "outputId": "8b6d8004-6b28-48d2-aa97-6aea784657c9",
        "colab": {
          "base_uri": "https://localhost:8080/",
          "height": 265
        }
      },
      "source": [
        "v1=np.array([-6,1])\n",
        "v2=np.array([2,-2.5])\n",
        "\n",
        "V = np.array([v1,v2])\n",
        "\n",
        "O=np.array([[0],[0]])\n",
        "plt.quiver(O[:],O[:],V[:,0],V[:,1], color=['r','g','b'], scale=21)\n",
        "plt.show()"
      ],
      "execution_count": 27,
      "outputs": [
        {
          "output_type": "display_data",
          "data": {
            "image/png": "[encoded data removed]",
            "text/plain": [
              "<Figure size 432x288 with 1 Axes>"
            ]
          },
          "metadata": {
            "tags": [],
            "needs_background": "light"
          }
        }
      ]
    },
    {
      "cell_type": "markdown",
      "metadata": {
        "id": "mO1dQT4yO6O1"
      },
      "source": [
        "Similaridade:"
      ]
    },
    {
      "cell_type": "code",
      "metadata": {
        "id": "HjGsQCAAO6O3",
        "outputId": "be72cb48-29aa-4f68-ea4e-20722815c4a3",
        "colab": {
          "base_uri": "https://localhost:8080/",
          "height": 35
        }
      },
      "source": [
        "simil(v1,v2)"
      ],
      "execution_count": 28,
      "outputs": [
        {
          "output_type": "execute_result",
          "data": {
            "text/plain": [
              "-0.7445694406464903"
            ]
          },
          "metadata": {
            "tags": []
          },
          "execution_count": 28
        }
      ]
    },
    {
      "cell_type": "markdown",
      "metadata": {
        "id": "POnLpOlWO6O-"
      },
      "source": [
        "## Hands-on"
      ]
    },
    {
      "cell_type": "markdown",
      "metadata": {
        "id": "afLc6XPbzTAG"
      },
      "source": [
        "Arrumando bases de dados:"
      ]
    },
    {
      "cell_type": "code",
      "metadata": {
        "id": "KxkAPpRRzq5S",
        "outputId": "484e5e34-50aa-4be0-8dc5-f731107ecba9",
        "colab": {
          "base_uri": "https://localhost:8080/",
          "height": 54
        }
      },
      "source": [
        "%%time\n",
        "y_train = np.array(train.loc[:,'positive'].tolist())\n",
        "X_train = [clean(t).split() for t in train.loc[:,'review'].tolist()]\n",
        "X_train = np.array([emb(t, model_doc, normalize=True) for t in X_train])"
      ],
      "execution_count": 29,
      "outputs": [
        {
          "output_type": "stream",
          "text": [
            "CPU times: user 4min 56s, sys: 630 ms, total: 4min 57s\n",
            "Wall time: 4min 58s\n"
          ],
          "name": "stdout"
        }
      ]
    },
    {
      "cell_type": "code",
      "metadata": {
        "id": "U-j13aaN070G",
        "outputId": "b035d3bd-88c3-4ccc-96e6-a995d8ea86fd",
        "colab": {
          "base_uri": "https://localhost:8080/",
          "height": 35
        }
      },
      "source": [
        "X_train.shape, y_train.shape"
      ],
      "execution_count": 30,
      "outputs": [
        {
          "output_type": "execute_result",
          "data": {
            "text/plain": [
              "((24984, 50), (24984,))"
            ]
          },
          "metadata": {
            "tags": []
          },
          "execution_count": 30
        }
      ]
    },
    {
      "cell_type": "code",
      "metadata": {
        "id": "RmvMsjeh0s59",
        "outputId": "5bbef486-d950-4541-8823-d7658511171b",
        "colab": {
          "base_uri": "https://localhost:8080/",
          "height": 35
        }
      },
      "source": [
        "X_train, X_val, y_train, y_val = train_test_split(X_train, y_train, test_size=0.25, random_state=42)\n",
        "\n",
        "X_train.shape, X_val.shape"
      ],
      "execution_count": 31,
      "outputs": [
        {
          "output_type": "execute_result",
          "data": {
            "text/plain": [
              "((18738, 50), (6246, 50))"
            ]
          },
          "metadata": {
            "tags": []
          },
          "execution_count": 31
        }
      ]
    },
    {
      "cell_type": "markdown",
      "metadata": {
        "id": "zKZ8UqBvO6P5"
      },
      "source": [
        "Vamos calcular as similaridades entre os textos da base de treino e da base de validação. Para isso, faremos uma multiplicação de matrizes, sendo que a matriz que resulta dessa multiplicação terá suas linhas indexadas aos textos da base de validação e as suas colunas indexadas aos textos da base de treino:"
      ]
    },
    {
      "cell_type": "code",
      "metadata": {
        "id": "_uqZ9aTQ8r1m",
        "outputId": "b53b2e10-428b-406b-f7de-9cc79c58e096",
        "colab": {
          "base_uri": "https://localhost:8080/",
          "height": 35
        }
      },
      "source": [
        "S = X_val@X_train.T\n",
        "\n",
        "S.shape"
      ],
      "execution_count": 32,
      "outputs": [
        {
          "output_type": "execute_result",
          "data": {
            "text/plain": [
              "(6246, 18738)"
            ]
          },
          "metadata": {
            "tags": []
          },
          "execution_count": 32
        }
      ]
    },
    {
      "cell_type": "markdown",
      "metadata": {
        "id": "SCGxkPQ4O6P_"
      },
      "source": [
        "Vamos 'recortar' um pedaço dessa matriz e visualizá-la na forma de um heatmap:"
      ]
    },
    {
      "cell_type": "code",
      "metadata": {
        "id": "czwpRPr5O6QA",
        "outputId": "96d6a89c-5c3e-46a1-b28f-01b308498fb4",
        "colab": {
          "base_uri": "https://localhost:8080/",
          "height": 280
        }
      },
      "source": [
        "sns.heatmap(S[:30,:30], cmap=\"Greys\")\n",
        "\n",
        "plt.ylabel('Textos base validação')\n",
        "plt.xlabel('Textos base treinamento')\n",
        "plt.show()"
      ],
      "execution_count": 33,
      "outputs": [
        {
          "output_type": "display_data",
          "data": {
            "image/png": "[encoded data removed]",
            "text/plain": [
              "<Figure size 432x288 with 2 Axes>"
            ]
          },
          "metadata": {
            "tags": [],
            "needs_background": "light"
          }
        }
      ]
    },
    {
      "cell_type": "markdown",
      "metadata": {
        "id": "Am_Da-X0zDD4"
      },
      "source": [
        "### TO-DO\n",
        "\n",
        "- Achar os $k=5$ textos mais similares na base de treino para todos os textos da base de validação. Após achar os $k$ textos mais similares, criar uma predição para o rótulo de cada linha da base de validação seguindo a regra \"se a proporção positivos nas amostras próximas for maior ou igual a 1/2, então classificar linha como positiva. Caso contrário, classificar linha como negativa\";\n",
        "\n",
        "  - Dica 1: utilizar multiplicação de matrizes;\n",
        "  - Dica 2: utilizar função 'argsort' do pacote Numpy. \n",
        "\n",
        "- Determinar $k^* \\in \\{1,5,10,25,50,100,500,1000,5000,10000\\}$ que maximiza a acurácia (#acertos/#total) no conjunto de validação\n",
        "\n",
        "- Combinar conjunto de treino e validação e, utilizando $k^*$, determinar acurácia no conjunto de teste;"
      ]
    },
    {
      "cell_type": "code",
      "metadata": {
        "id": "6IVA4bQlO6PE",
        "outputId": "484a36b6-4c43-4285-ed70-727d28c72049",
        "colab": {
          "base_uri": "https://localhost:8080/",
          "height": 72
        }
      },
      "source": [
        "x=np.array([[1,0,9,-2],[3,4,2,5],[-1,4,6,5]])\n",
        "x"
      ],
      "execution_count": 34,
      "outputs": [
        {
          "output_type": "execute_result",
          "data": {
            "text/plain": [
              "array([[ 1,  0,  9, -2],\n",
              "       [ 3,  4,  2,  5],\n",
              "       [-1,  4,  6,  5]])"
            ]
          },
          "metadata": {
            "tags": []
          },
          "execution_count": 34
        }
      ]
    },
    {
      "cell_type": "code",
      "metadata": {
        "id": "CRVAT2Wo3USI",
        "outputId": "aeb50ccb-71d8-4ead-c084-b4c589389f4b",
        "colab": {
          "base_uri": "https://localhost:8080/",
          "height": 72
        }
      },
      "source": [
        "k=3\n",
        "x.argsort(axis=1)[:,::-1][:,:k]"
      ],
      "execution_count": 35,
      "outputs": [
        {
          "output_type": "execute_result",
          "data": {
            "text/plain": [
              "array([[2, 0, 1],\n",
              "       [3, 1, 0],\n",
              "       [2, 3, 1]])"
            ]
          },
          "metadata": {
            "tags": []
          },
          "execution_count": 35
        }
      ]
    },
    {
      "cell_type": "markdown",
      "metadata": {
        "id": "1Z-9VBhE9Cfv"
      },
      "source": [
        "Resolução 1"
      ]
    },
    {
      "cell_type": "code",
      "metadata": {
        "id": "ykuh8TUX3U0S"
      },
      "source": [
        "k = 5\n",
        "\n",
        "M = S.argsort(axis=1)[:,::-1][:,:k]\n",
        "prob = np.mean(y_train[M]==1, axis=1)\n",
        "y_hat = (prob >= .5).astype(int)"
      ],
      "execution_count": 39,
      "outputs": []
    },
    {
      "cell_type": "code",
      "metadata": {
        "id": "4CaCmSn49rUt",
        "outputId": "4c5810c0-876a-4949-b219-8932520ea110",
        "colab": {
          "base_uri": "https://localhost:8080/",
          "height": 35
        }
      },
      "source": [
        "print(\"k = {:} --- Acurácia Validação = {:.2f}\".format(k, np.mean(y_hat == y_val)))"
      ],
      "execution_count": 43,
      "outputs": [
        {
          "output_type": "stream",
          "text": [
            "k = 5 --- Acurácia Validação = 0.76\n"
          ],
          "name": "stdout"
        }
      ]
    },
    {
      "cell_type": "markdown",
      "metadata": {
        "id": "MD6MeHkx-LTe"
      },
      "source": [
        "Resolução 2"
      ]
    },
    {
      "cell_type": "code",
      "metadata": {
        "id": "HYOMfiT3-KnF",
        "outputId": "a2d4dc7d-7828-4236-99d5-26db0c9e8dee",
        "colab": {
          "base_uri": "https://localhost:8080/",
          "height": 199
        }
      },
      "source": [
        "K=[1,5,10,25,50,100,500,1000,5000,10000]\n",
        "M = S.argsort(axis=1)[:,::-1]\n",
        "\n",
        "for k in K:\n",
        "  prob = np.mean(y_train[M[:,:k]]==1, axis=1)\n",
        "  y_hat = (prob >= .5).astype(int)\n",
        "  acc = np.mean(y_hat == y_val)\n",
        "  erro = np.std(y_hat == y_val)/np.sqrt(y_hat.shape[0])\n",
        "\n",
        "  print(\"k = {:5} --- Acurácia Validação (I.C. 95%)= {:.3f} ± {:.3f}\".format(k, acc, 1.96*erro))"
      ],
      "execution_count": 54,
      "outputs": [
        {
          "output_type": "stream",
          "text": [
            "k =     1 --- Acurácia Validação (I.C. 95%)= 0.691 ± 0.011\n",
            "k =     5 --- Acurácia Validação (I.C. 95%)= 0.756 ± 0.011\n",
            "k =    10 --- Acurácia Validação (I.C. 95%)= 0.767 ± 0.010\n",
            "k =    25 --- Acurácia Validação (I.C. 95%)= 0.792 ± 0.010\n",
            "k =    50 --- Acurácia Validação (I.C. 95%)= 0.796 ± 0.010\n",
            "k =   100 --- Acurácia Validação (I.C. 95%)= 0.793 ± 0.010\n",
            "k =   500 --- Acurácia Validação (I.C. 95%)= 0.793 ± 0.010\n",
            "k =  1000 --- Acurácia Validação (I.C. 95%)= 0.795 ± 0.010\n",
            "k =  5000 --- Acurácia Validação (I.C. 95%)= 0.798 ± 0.010\n",
            "k = 10000 --- Acurácia Validação (I.C. 95%)= 0.797 ± 0.010\n"
          ],
          "name": "stdout"
        }
      ]
    },
    {
      "cell_type": "markdown",
      "metadata": {
        "id": "FYDGQxz3_6ct"
      },
      "source": [
        "Resolução 3:\n",
        "\n",
        "Como os resultados para $k\\geq 25$ são estatisticamente iguais, ficaremos com a mais simples ($k^*=25$):"
      ]
    },
    {
      "cell_type": "code",
      "metadata": {
        "id": "SZJsvKvl-GUs",
        "outputId": "9ae36879-0e77-4e51-e887-8d99736c5ab0",
        "colab": {
          "base_uri": "https://localhost:8080/",
          "height": 35
        }
      },
      "source": [
        "X_train = np.vstack((X_train, X_val))\n",
        "y_train = np.hstack((y_train, y_val))\n",
        "\n",
        "X_train.shape, y_train.shape"
      ],
      "execution_count": 59,
      "outputs": [
        {
          "output_type": "execute_result",
          "data": {
            "text/plain": [
              "((24984, 50), (24984,))"
            ]
          },
          "metadata": {
            "tags": []
          },
          "execution_count": 59
        }
      ]
    },
    {
      "cell_type": "code",
      "metadata": {
        "id": "rNamYhcZBOzx"
      },
      "source": [
        "y_test = np.array(test.loc[:,'positive'].tolist())\n",
        "X_test = [clean(t).split() for t in test.loc[:,'review'].tolist()]\n",
        "X_test = np.array([emb(t, model_doc, normalize=True) for t in X_test])"
      ],
      "execution_count": 61,
      "outputs": []
    },
    {
      "cell_type": "code",
      "metadata": {
        "id": "qmMB-pLdAw42",
        "outputId": "94012ebf-d1ff-4991-86e8-5700e9ee5401",
        "colab": {
          "base_uri": "https://localhost:8080/",
          "height": 35
        }
      },
      "source": [
        "S = X_test@X_train.T\n",
        "\n",
        "S.shape"
      ],
      "execution_count": 62,
      "outputs": [
        {
          "output_type": "execute_result",
          "data": {
            "text/plain": [
              "(24985, 24984)"
            ]
          },
          "metadata": {
            "tags": []
          },
          "execution_count": 62
        }
      ]
    },
    {
      "cell_type": "code",
      "metadata": {
        "id": "iSE2tegGBIdW"
      },
      "source": [
        "k = 25\n",
        "\n",
        "M = S.argsort(axis=1)[:,::-1][:,:k]\n",
        "prob = np.mean(y_train[M]==1, axis=1)\n",
        "y_hat = (prob >= .5).astype(int)"
      ],
      "execution_count": null,
      "outputs": []
    },
    {
      "cell_type": "code",
      "metadata": {
        "id": "Ni8sRE2HBhC-",
        "outputId": "31bf417f-9f7c-43cf-b472-d4ccf6331d91",
        "colab": {
          "base_uri": "https://localhost:8080/",
          "height": 35
        }
      },
      "source": [
        "print(\"k = {:} --- Acurácia Teste = {:.3f}\".format(k, np.mean(y_hat == y_test)))"
      ],
      "execution_count": 64,
      "outputs": [
        {
          "output_type": "stream",
          "text": [
            "k = 25 --- Acurácia Teste = 0.781\n"
          ],
          "name": "stdout"
        }
      ]
    },
    {
      "cell_type": "code",
      "metadata": {
        "id": "YbbL2EA7Bpmx"
      },
      "source": [
        ""
      ],
      "execution_count": null,
      "outputs": []
    }
  ]
}